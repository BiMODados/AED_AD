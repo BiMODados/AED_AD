{
 "cells": [
  {
   "cell_type": "code",
   "execution_count": null,
   "metadata": {},
   "outputs": [],
   "source": []
  },
  {
   "cell_type": "markdown",
   "metadata": {},
   "source": [
    "# Importações Necessárias"
   ]
  },
  {
   "cell_type": "code",
   "execution_count": 28,
   "metadata": {},
   "outputs": [],
   "source": [
    "import pandas as pd\n",
    "from sklearn.preprocessing import LabelEncoder\n",
    "from sklearn.metrics import confusion_matrix\n",
    "from sklearn.model_selection import cross_val_score, train_test_split, KFold\n",
    "from sklearn import tree\n",
    "from sklearn.naive_bayes import GaussianNB\n",
    "import matplotlib.pyplot as plt\n",
    "import seaborn as sns\n",
    "from imblearn.over_sampling import SMOTE\n",
    "from sklearn.metrics import confusion_matrix, multilabel_confusion_matrix\n",
    "import seaborn as sns\n",
    "import matplotlib.pyplot as plt\n",
    "from sklearn.metrics import classification_report\n",
    "from sklearn.model_selection import GridSearchCV\n",
    "from sklearn.preprocessing import OrdinalEncoder\n",
    "from sklearn.compose import ColumnTransformer, make_column_selector\n",
    "import pickle\n",
    "from sklearn.neighbors import KNeighborsClassifier"
   ]
  },
  {
   "cell_type": "markdown",
   "metadata": {},
   "source": [
    "# Lendo os dados"
   ]
  },
  {
   "cell_type": "code",
   "execution_count": 29,
   "metadata": {},
   "outputs": [
    {
     "data": {
      "text/html": [
       "<div>\n",
       "<style scoped>\n",
       "    .dataframe tbody tr th:only-of-type {\n",
       "        vertical-align: middle;\n",
       "    }\n",
       "\n",
       "    .dataframe tbody tr th {\n",
       "        vertical-align: top;\n",
       "    }\n",
       "\n",
       "    .dataframe thead th {\n",
       "        text-align: right;\n",
       "    }\n",
       "</style>\n",
       "<table border=\"1\" class=\"dataframe\">\n",
       "  <thead>\n",
       "    <tr style=\"text-align: right;\">\n",
       "      <th></th>\n",
       "      <th>Situação Cadastral</th>\n",
       "      <th>UF</th>\n",
       "      <th>Porte Empresa</th>\n",
       "      <th>Capital Social</th>\n",
       "      <th>municipios</th>\n",
       "      <th>cnaes</th>\n",
       "      <th>Natureza Juridica</th>\n",
       "      <th>ano inicio_ativ</th>\n",
       "      <th>mes inicio_ativ</th>\n",
       "      <th>dia inicio_ativ</th>\n",
       "    </tr>\n",
       "  </thead>\n",
       "  <tbody>\n",
       "    <tr>\n",
       "      <th>0</th>\n",
       "      <td>NULA</td>\n",
       "      <td>PE</td>\n",
       "      <td>Outros</td>\n",
       "      <td>5.0</td>\n",
       "      <td>RECIFE</td>\n",
       "      <td>Comércio varejista especializado de eletrodomé...</td>\n",
       "      <td>Sociedade Anônima Aberta</td>\n",
       "      <td>1970</td>\n",
       "      <td>1</td>\n",
       "      <td>1</td>\n",
       "    </tr>\n",
       "    <tr>\n",
       "      <th>1</th>\n",
       "      <td>NULA</td>\n",
       "      <td>CE</td>\n",
       "      <td>Outros</td>\n",
       "      <td>5.0</td>\n",
       "      <td>FORTALEZA</td>\n",
       "      <td>Comércio varejista especializado de eletrodomé...</td>\n",
       "      <td>Sociedade Anônima Aberta</td>\n",
       "      <td>1970</td>\n",
       "      <td>1</td>\n",
       "      <td>1</td>\n",
       "    </tr>\n",
       "    <tr>\n",
       "      <th>2</th>\n",
       "      <td>NULA</td>\n",
       "      <td>CE</td>\n",
       "      <td>Outros</td>\n",
       "      <td>5.0</td>\n",
       "      <td>FORTALEZA</td>\n",
       "      <td>Comércio varejista especializado de eletrodomé...</td>\n",
       "      <td>Sociedade Anônima Aberta</td>\n",
       "      <td>1970</td>\n",
       "      <td>1</td>\n",
       "      <td>1</td>\n",
       "    </tr>\n",
       "    <tr>\n",
       "      <th>3</th>\n",
       "      <td>NULA</td>\n",
       "      <td>CE</td>\n",
       "      <td>Outros</td>\n",
       "      <td>5.0</td>\n",
       "      <td>FORTALEZA</td>\n",
       "      <td>Comércio varejista especializado de eletrodomé...</td>\n",
       "      <td>Sociedade Anônima Aberta</td>\n",
       "      <td>1970</td>\n",
       "      <td>1</td>\n",
       "      <td>1</td>\n",
       "    </tr>\n",
       "    <tr>\n",
       "      <th>4</th>\n",
       "      <td>NULA</td>\n",
       "      <td>RJ</td>\n",
       "      <td>Outros</td>\n",
       "      <td>5.0</td>\n",
       "      <td>ITAGUAI</td>\n",
       "      <td>Comércio varejista especializado de eletrodomé...</td>\n",
       "      <td>Sociedade Anônima Aberta</td>\n",
       "      <td>1970</td>\n",
       "      <td>1</td>\n",
       "      <td>1</td>\n",
       "    </tr>\n",
       "  </tbody>\n",
       "</table>\n",
       "</div>"
      ],
      "text/plain": [
       "  Situação Cadastral  UF Porte Empresa  Capital Social municipios  \\\n",
       "0               NULA  PE        Outros             5.0     RECIFE   \n",
       "1               NULA  CE        Outros             5.0  FORTALEZA   \n",
       "2               NULA  CE        Outros             5.0  FORTALEZA   \n",
       "3               NULA  CE        Outros             5.0  FORTALEZA   \n",
       "4               NULA  RJ        Outros             5.0    ITAGUAI   \n",
       "\n",
       "                                               cnaes  \\\n",
       "0  Comércio varejista especializado de eletrodomé...   \n",
       "1  Comércio varejista especializado de eletrodomé...   \n",
       "2  Comércio varejista especializado de eletrodomé...   \n",
       "3  Comércio varejista especializado de eletrodomé...   \n",
       "4  Comércio varejista especializado de eletrodomé...   \n",
       "\n",
       "          Natureza Juridica  ano inicio_ativ  mes inicio_ativ  dia inicio_ativ  \n",
       "0  Sociedade Anônima Aberta             1970                1                1  \n",
       "1  Sociedade Anônima Aberta             1970                1                1  \n",
       "2  Sociedade Anônima Aberta             1970                1                1  \n",
       "3  Sociedade Anônima Aberta             1970                1                1  \n",
       "4  Sociedade Anônima Aberta             1970                1                1  "
      ]
     },
     "metadata": {},
     "output_type": "display_data"
    }
   ],
   "source": [
    "kfold = KFold(n_splits=4, shuffle=True, random_state=0) # separando o k-fold para fazer o cross-validation\n",
    "\n",
    "df_meis = pd.read_excel(\"../../Data Cleaning AED/Base_ia_basica.xlsx\")\n",
    "\n",
    "display(df_meis.head(5))"
   ]
  },
  {
   "cell_type": "markdown",
   "metadata": {},
   "source": [
    "# Sepando os dados entre Atributos e Respostas"
   ]
  },
  {
   "cell_type": "code",
   "execution_count": 30,
   "metadata": {},
   "outputs": [
    {
     "name": "stdout",
     "output_type": "stream",
     "text": [
      "X:\n"
     ]
    },
    {
     "data": {
      "text/html": [
       "<div>\n",
       "<style scoped>\n",
       "    .dataframe tbody tr th:only-of-type {\n",
       "        vertical-align: middle;\n",
       "    }\n",
       "\n",
       "    .dataframe tbody tr th {\n",
       "        vertical-align: top;\n",
       "    }\n",
       "\n",
       "    .dataframe thead th {\n",
       "        text-align: right;\n",
       "    }\n",
       "</style>\n",
       "<table border=\"1\" class=\"dataframe\">\n",
       "  <thead>\n",
       "    <tr style=\"text-align: right;\">\n",
       "      <th></th>\n",
       "      <th>UF</th>\n",
       "      <th>Porte Empresa</th>\n",
       "      <th>Capital Social</th>\n",
       "      <th>municipios</th>\n",
       "      <th>cnaes</th>\n",
       "      <th>Natureza Juridica</th>\n",
       "      <th>ano inicio_ativ</th>\n",
       "      <th>mes inicio_ativ</th>\n",
       "      <th>dia inicio_ativ</th>\n",
       "    </tr>\n",
       "  </thead>\n",
       "  <tbody>\n",
       "    <tr>\n",
       "      <th>0</th>\n",
       "      <td>PE</td>\n",
       "      <td>Outros</td>\n",
       "      <td>5.0</td>\n",
       "      <td>RECIFE</td>\n",
       "      <td>Comércio varejista especializado de eletrodomé...</td>\n",
       "      <td>Sociedade Anônima Aberta</td>\n",
       "      <td>1970</td>\n",
       "      <td>1</td>\n",
       "      <td>1</td>\n",
       "    </tr>\n",
       "    <tr>\n",
       "      <th>1</th>\n",
       "      <td>CE</td>\n",
       "      <td>Outros</td>\n",
       "      <td>5.0</td>\n",
       "      <td>FORTALEZA</td>\n",
       "      <td>Comércio varejista especializado de eletrodomé...</td>\n",
       "      <td>Sociedade Anônima Aberta</td>\n",
       "      <td>1970</td>\n",
       "      <td>1</td>\n",
       "      <td>1</td>\n",
       "    </tr>\n",
       "  </tbody>\n",
       "</table>\n",
       "</div>"
      ],
      "text/plain": [
       "   UF Porte Empresa  Capital Social municipios  \\\n",
       "0  PE        Outros             5.0     RECIFE   \n",
       "1  CE        Outros             5.0  FORTALEZA   \n",
       "\n",
       "                                               cnaes  \\\n",
       "0  Comércio varejista especializado de eletrodomé...   \n",
       "1  Comércio varejista especializado de eletrodomé...   \n",
       "\n",
       "          Natureza Juridica  ano inicio_ativ  mes inicio_ativ  dia inicio_ativ  \n",
       "0  Sociedade Anônima Aberta             1970                1                1  \n",
       "1  Sociedade Anônima Aberta             1970                1                1  "
      ]
     },
     "metadata": {},
     "output_type": "display_data"
    },
    {
     "name": "stdout",
     "output_type": "stream",
     "text": [
      "y:\n"
     ]
    },
    {
     "data": {
      "text/plain": [
       "0    NULA\n",
       "1    NULA\n",
       "Name: Situação Cadastral, dtype: object"
      ]
     },
     "metadata": {},
     "output_type": "display_data"
    }
   ],
   "source": [
    "df_resposta = df_meis['Situação Cadastral']\n",
    "df_atributos = df_meis.drop('Situação Cadastral', axis=1)\n",
    "\n",
    "print('X:')\n",
    "display(df_atributos.head(2))\n",
    "print('y:')\n",
    "display(df_resposta.head(2))"
   ]
  },
  {
   "cell_type": "markdown",
   "metadata": {},
   "source": [
    "# Métricas com o uso do Report (Entropia, Gini e Bayes) teste"
   ]
  },
  {
   "cell_type": "markdown",
   "metadata": {},
   "source": [
    "# Conversão de Variáveis Categóricas em Númericas com LabelEncoder"
   ]
  },
  {
   "cell_type": "code",
   "execution_count": 31,
   "metadata": {},
   "outputs": [
    {
     "data": {
      "text/html": [
       "<div>\n",
       "<style scoped>\n",
       "    .dataframe tbody tr th:only-of-type {\n",
       "        vertical-align: middle;\n",
       "    }\n",
       "\n",
       "    .dataframe tbody tr th {\n",
       "        vertical-align: top;\n",
       "    }\n",
       "\n",
       "    .dataframe thead th {\n",
       "        text-align: right;\n",
       "    }\n",
       "</style>\n",
       "<table border=\"1\" class=\"dataframe\">\n",
       "  <thead>\n",
       "    <tr style=\"text-align: right;\">\n",
       "      <th></th>\n",
       "      <th>UF</th>\n",
       "      <th>Porte Empresa</th>\n",
       "      <th>Capital Social</th>\n",
       "      <th>municipios</th>\n",
       "      <th>cnaes</th>\n",
       "      <th>Natureza Juridica</th>\n",
       "      <th>ano inicio_ativ</th>\n",
       "      <th>mes inicio_ativ</th>\n",
       "      <th>dia inicio_ativ</th>\n",
       "    </tr>\n",
       "  </thead>\n",
       "  <tbody>\n",
       "    <tr>\n",
       "      <th>0</th>\n",
       "      <td>PE</td>\n",
       "      <td>Outros</td>\n",
       "      <td>5.0</td>\n",
       "      <td>RECIFE</td>\n",
       "      <td>Comércio varejista especializado de eletrodomé...</td>\n",
       "      <td>Sociedade Anônima Aberta</td>\n",
       "      <td>1970</td>\n",
       "      <td>1</td>\n",
       "      <td>1</td>\n",
       "    </tr>\n",
       "    <tr>\n",
       "      <th>1</th>\n",
       "      <td>CE</td>\n",
       "      <td>Outros</td>\n",
       "      <td>5.0</td>\n",
       "      <td>FORTALEZA</td>\n",
       "      <td>Comércio varejista especializado de eletrodomé...</td>\n",
       "      <td>Sociedade Anônima Aberta</td>\n",
       "      <td>1970</td>\n",
       "      <td>1</td>\n",
       "      <td>1</td>\n",
       "    </tr>\n",
       "    <tr>\n",
       "      <th>2</th>\n",
       "      <td>CE</td>\n",
       "      <td>Outros</td>\n",
       "      <td>5.0</td>\n",
       "      <td>FORTALEZA</td>\n",
       "      <td>Comércio varejista especializado de eletrodomé...</td>\n",
       "      <td>Sociedade Anônima Aberta</td>\n",
       "      <td>1970</td>\n",
       "      <td>1</td>\n",
       "      <td>1</td>\n",
       "    </tr>\n",
       "    <tr>\n",
       "      <th>3</th>\n",
       "      <td>CE</td>\n",
       "      <td>Outros</td>\n",
       "      <td>5.0</td>\n",
       "      <td>FORTALEZA</td>\n",
       "      <td>Comércio varejista especializado de eletrodomé...</td>\n",
       "      <td>Sociedade Anônima Aberta</td>\n",
       "      <td>1970</td>\n",
       "      <td>1</td>\n",
       "      <td>1</td>\n",
       "    </tr>\n",
       "    <tr>\n",
       "      <th>4</th>\n",
       "      <td>RJ</td>\n",
       "      <td>Outros</td>\n",
       "      <td>5.0</td>\n",
       "      <td>ITAGUAI</td>\n",
       "      <td>Comércio varejista especializado de eletrodomé...</td>\n",
       "      <td>Sociedade Anônima Aberta</td>\n",
       "      <td>1970</td>\n",
       "      <td>1</td>\n",
       "      <td>1</td>\n",
       "    </tr>\n",
       "  </tbody>\n",
       "</table>\n",
       "</div>"
      ],
      "text/plain": [
       "   UF Porte Empresa  Capital Social municipios  \\\n",
       "0  PE        Outros             5.0     RECIFE   \n",
       "1  CE        Outros             5.0  FORTALEZA   \n",
       "2  CE        Outros             5.0  FORTALEZA   \n",
       "3  CE        Outros             5.0  FORTALEZA   \n",
       "4  RJ        Outros             5.0    ITAGUAI   \n",
       "\n",
       "                                               cnaes  \\\n",
       "0  Comércio varejista especializado de eletrodomé...   \n",
       "1  Comércio varejista especializado de eletrodomé...   \n",
       "2  Comércio varejista especializado de eletrodomé...   \n",
       "3  Comércio varejista especializado de eletrodomé...   \n",
       "4  Comércio varejista especializado de eletrodomé...   \n",
       "\n",
       "          Natureza Juridica  ano inicio_ativ  mes inicio_ativ  dia inicio_ativ  \n",
       "0  Sociedade Anônima Aberta             1970                1                1  \n",
       "1  Sociedade Anônima Aberta             1970                1                1  \n",
       "2  Sociedade Anônima Aberta             1970                1                1  \n",
       "3  Sociedade Anônima Aberta             1970                1                1  \n",
       "4  Sociedade Anônima Aberta             1970                1                1  "
      ]
     },
     "execution_count": 31,
     "metadata": {},
     "output_type": "execute_result"
    }
   ],
   "source": [
    "df_atributos.head(5)"
   ]
  },
  {
   "cell_type": "code",
   "execution_count": 32,
   "metadata": {},
   "outputs": [
    {
     "data": {
      "text/html": [
       "<div>\n",
       "<style scoped>\n",
       "    .dataframe tbody tr th:only-of-type {\n",
       "        vertical-align: middle;\n",
       "    }\n",
       "\n",
       "    .dataframe tbody tr th {\n",
       "        vertical-align: top;\n",
       "    }\n",
       "\n",
       "    .dataframe thead th {\n",
       "        text-align: right;\n",
       "    }\n",
       "</style>\n",
       "<table border=\"1\" class=\"dataframe\">\n",
       "  <thead>\n",
       "    <tr style=\"text-align: right;\">\n",
       "      <th></th>\n",
       "      <th>UF</th>\n",
       "      <th>Porte Empresa</th>\n",
       "      <th>Capital Social</th>\n",
       "      <th>municipios</th>\n",
       "      <th>cnaes</th>\n",
       "      <th>Natureza Juridica</th>\n",
       "      <th>ano inicio_ativ</th>\n",
       "      <th>mes inicio_ativ</th>\n",
       "      <th>dia inicio_ativ</th>\n",
       "    </tr>\n",
       "  </thead>\n",
       "  <tbody>\n",
       "    <tr>\n",
       "      <th>0</th>\n",
       "      <td>14.0</td>\n",
       "      <td>3.0</td>\n",
       "      <td>757.0</td>\n",
       "      <td>236.0</td>\n",
       "      <td>19.0</td>\n",
       "      <td>5.0</td>\n",
       "      <td>1970.0</td>\n",
       "      <td>1.0</td>\n",
       "      <td>1.0</td>\n",
       "    </tr>\n",
       "    <tr>\n",
       "      <th>1</th>\n",
       "      <td>4.0</td>\n",
       "      <td>3.0</td>\n",
       "      <td>337.0</td>\n",
       "      <td>236.0</td>\n",
       "      <td>19.0</td>\n",
       "      <td>5.0</td>\n",
       "      <td>1970.0</td>\n",
       "      <td>1.0</td>\n",
       "      <td>1.0</td>\n",
       "    </tr>\n",
       "    <tr>\n",
       "      <th>2</th>\n",
       "      <td>4.0</td>\n",
       "      <td>3.0</td>\n",
       "      <td>337.0</td>\n",
       "      <td>236.0</td>\n",
       "      <td>19.0</td>\n",
       "      <td>5.0</td>\n",
       "      <td>1970.0</td>\n",
       "      <td>1.0</td>\n",
       "      <td>1.0</td>\n",
       "    </tr>\n",
       "    <tr>\n",
       "      <th>3</th>\n",
       "      <td>4.0</td>\n",
       "      <td>3.0</td>\n",
       "      <td>337.0</td>\n",
       "      <td>236.0</td>\n",
       "      <td>19.0</td>\n",
       "      <td>5.0</td>\n",
       "      <td>1970.0</td>\n",
       "      <td>1.0</td>\n",
       "      <td>1.0</td>\n",
       "    </tr>\n",
       "    <tr>\n",
       "      <th>4</th>\n",
       "      <td>17.0</td>\n",
       "      <td>3.0</td>\n",
       "      <td>427.0</td>\n",
       "      <td>236.0</td>\n",
       "      <td>19.0</td>\n",
       "      <td>5.0</td>\n",
       "      <td>1970.0</td>\n",
       "      <td>1.0</td>\n",
       "      <td>1.0</td>\n",
       "    </tr>\n",
       "    <tr>\n",
       "      <th>...</th>\n",
       "      <td>...</td>\n",
       "      <td>...</td>\n",
       "      <td>...</td>\n",
       "      <td>...</td>\n",
       "      <td>...</td>\n",
       "      <td>...</td>\n",
       "      <td>...</td>\n",
       "      <td>...</td>\n",
       "      <td>...</td>\n",
       "    </tr>\n",
       "    <tr>\n",
       "      <th>13430</th>\n",
       "      <td>17.0</td>\n",
       "      <td>2.0</td>\n",
       "      <td>784.0</td>\n",
       "      <td>528.0</td>\n",
       "      <td>24.0</td>\n",
       "      <td>1.0</td>\n",
       "      <td>1970.0</td>\n",
       "      <td>1.0</td>\n",
       "      <td>1.0</td>\n",
       "    </tr>\n",
       "    <tr>\n",
       "      <th>13431</th>\n",
       "      <td>5.0</td>\n",
       "      <td>2.0</td>\n",
       "      <td>133.0</td>\n",
       "      <td>636.0</td>\n",
       "      <td>24.0</td>\n",
       "      <td>5.0</td>\n",
       "      <td>1970.0</td>\n",
       "      <td>1.0</td>\n",
       "      <td>1.0</td>\n",
       "    </tr>\n",
       "    <tr>\n",
       "      <th>13432</th>\n",
       "      <td>17.0</td>\n",
       "      <td>2.0</td>\n",
       "      <td>784.0</td>\n",
       "      <td>21.0</td>\n",
       "      <td>22.0</td>\n",
       "      <td>5.0</td>\n",
       "      <td>1970.0</td>\n",
       "      <td>1.0</td>\n",
       "      <td>1.0</td>\n",
       "    </tr>\n",
       "    <tr>\n",
       "      <th>13433</th>\n",
       "      <td>17.0</td>\n",
       "      <td>2.0</td>\n",
       "      <td>784.0</td>\n",
       "      <td>601.0</td>\n",
       "      <td>15.0</td>\n",
       "      <td>5.0</td>\n",
       "      <td>1970.0</td>\n",
       "      <td>1.0</td>\n",
       "      <td>1.0</td>\n",
       "    </tr>\n",
       "    <tr>\n",
       "      <th>13434</th>\n",
       "      <td>17.0</td>\n",
       "      <td>2.0</td>\n",
       "      <td>784.0</td>\n",
       "      <td>601.0</td>\n",
       "      <td>15.0</td>\n",
       "      <td>5.0</td>\n",
       "      <td>1970.0</td>\n",
       "      <td>1.0</td>\n",
       "      <td>1.0</td>\n",
       "    </tr>\n",
       "  </tbody>\n",
       "</table>\n",
       "<p>13435 rows × 9 columns</p>\n",
       "</div>"
      ],
      "text/plain": [
       "         UF  Porte Empresa  Capital Social  municipios  cnaes  \\\n",
       "0      14.0            3.0           757.0       236.0   19.0   \n",
       "1       4.0            3.0           337.0       236.0   19.0   \n",
       "2       4.0            3.0           337.0       236.0   19.0   \n",
       "3       4.0            3.0           337.0       236.0   19.0   \n",
       "4      17.0            3.0           427.0       236.0   19.0   \n",
       "...     ...            ...             ...         ...    ...   \n",
       "13430  17.0            2.0           784.0       528.0   24.0   \n",
       "13431   5.0            2.0           133.0       636.0   24.0   \n",
       "13432  17.0            2.0           784.0        21.0   22.0   \n",
       "13433  17.0            2.0           784.0       601.0   15.0   \n",
       "13434  17.0            2.0           784.0       601.0   15.0   \n",
       "\n",
       "       Natureza Juridica  ano inicio_ativ  mes inicio_ativ  dia inicio_ativ  \n",
       "0                    5.0           1970.0              1.0              1.0  \n",
       "1                    5.0           1970.0              1.0              1.0  \n",
       "2                    5.0           1970.0              1.0              1.0  \n",
       "3                    5.0           1970.0              1.0              1.0  \n",
       "4                    5.0           1970.0              1.0              1.0  \n",
       "...                  ...              ...              ...              ...  \n",
       "13430                1.0           1970.0              1.0              1.0  \n",
       "13431                5.0           1970.0              1.0              1.0  \n",
       "13432                5.0           1970.0              1.0              1.0  \n",
       "13433                5.0           1970.0              1.0              1.0  \n",
       "13434                5.0           1970.0              1.0              1.0  \n",
       "\n",
       "[13435 rows x 9 columns]"
      ]
     },
     "metadata": {},
     "output_type": "display_data"
    }
   ],
   "source": [
    "# label_encoder = LabelEncoder()\n",
    "\n",
    "# for col in df_atributos.columns:\n",
    "#     if df_atributos[col].dtype == 'object':\n",
    "#         df_atributos[col] = label_encoder.fit_transform(df_atributos[col])\n",
    "\n",
    "preprocessador = ColumnTransformer(transformers=[('categoricas', OrdinalEncoder(), make_column_selector(dtype_include=['object'])),],remainder='passthrough',\n",
    "verbose_feature_names_out= False)\n",
    "\n",
    "X_pre = preprocessador.fit_transform(df_atributos)\n",
    "\n",
    "display(pd.DataFrame(X_pre, columns= df_atributos.columns))\n",
    "\n",
    "# Transforma só as colunas que são objetos\n",
    "\n",
    "\n",
    "# Jeito macaco de fazer\n",
    "\n",
    "# le_compra = LabelEncoder()\n",
    "# df_atributos['compra'] = le_compra.fit_transform(df_atributos['compra'])\n",
    "# le_manu = LabelEncoder()\n",
    "# df_atributos['manutencao'] = le_manu.fit_transform(df_atributos['manutencao'])\n",
    "# le_por = LabelEncoder()\n",
    "# df_atributos['portas'] = le_por.fit_transform(df_atributos['portas'])\n",
    "# le_pes = LabelEncoder()\n",
    "# df_atributos['pessoas'] = le_pes.fit_transform(df_atributos['pessoas'])\n",
    "# le_portas = LabelEncoder()\n",
    "# df_atributos['porta-malas'] = le_portas.fit_transform(df_atributos['porta-malas'])\n",
    "# le_seg = LabelEncoder()\n",
    "# df_atributos['seguranca'] = le_seg.fit_transform(df_atributos['seguranca'])\n",
    "\n",
    "\n",
    "\n",
    "\n",
    "# # df_resposta = label_encoder.fit_transform(df_resposta)\n",
    "\n",
    "# display(df_atributos)\n",
    "# display(df_resposta)"
   ]
  },
  {
   "cell_type": "markdown",
   "metadata": {},
   "source": [
    "# Separação dos dados entre treino e teste"
   ]
  },
  {
   "cell_type": "code",
   "execution_count": 33,
   "metadata": {},
   "outputs": [
    {
     "name": "stdout",
     "output_type": "stream",
     "text": [
      "Tamanho do conjunto de treino: 10076\n",
      "Tamanho do conjunto de teste: 3359\n",
      "Conjunto:  [[6.000e+00 2.000e+00 9.110e+02 ... 1.970e+03 1.000e+00 1.000e+00]\n",
      " [1.700e+01 2.000e+00 1.007e+03 ... 1.970e+03 1.000e+00 1.000e+00]\n",
      " [1.700e+01 3.000e+00 7.840e+02 ... 1.970e+03 1.000e+00 1.000e+00]\n",
      " ...\n",
      " [2.300e+01 2.000e+00 2.780e+02 ... 1.970e+03 1.000e+00 1.000e+00]\n",
      " [5.000e+00 2.000e+00 1.330e+02 ... 1.970e+03 1.000e+00 1.000e+00]\n",
      " [5.000e+00 2.000e+00 1.330e+02 ... 1.970e+03 1.000e+00 1.000e+00]]\n"
     ]
    }
   ],
   "source": [
    "# Separar os dados em conjuntos de treino e teste\n",
    "x_train, x_test, y_train, y_test = train_test_split(X_pre, df_resposta, test_size=0.25, random_state=0)\n",
    "\n",
    "# Exibir os tamanhos dos conjuntos de treino e teste\n",
    "print(\"Tamanho do conjunto de treino:\", len(x_train))\n",
    "print(\"Tamanho do conjunto de teste:\", len(x_test))\n",
    "\n",
    "print(\"Conjunto: \", x_test)"
   ]
  },
  {
   "cell_type": "markdown",
   "metadata": {},
   "source": [
    "# Criando e Treinando o Classificador"
   ]
  },
  {
   "cell_type": "code",
   "execution_count": 34,
   "metadata": {},
   "outputs": [],
   "source": [
    "# classificador_gini = tree.DecisionTreeClassifier(criterion='gini', splitter='best', max_depth=3)\n",
    "\n",
    "# classificador_entropy = tree.DecisionTreeClassifier(criterion='entropy', splitter='best', max_depth=3)\n",
    "\n",
    "# classificador_gini = tree.DecisionTreeClassifier(criterion='gini', splitter='best', max_depth=3)\n",
    "\n",
    "# classificador_entropy = tree.DecisionTreeClassifier(criterion='entropy', splitter='best', max_depth=3)\n",
    "\n",
    "# classificador_entropy = tree.DecisionTreeClassifier(criterion='entropy', splitter='best', max_depth=3)\n",
    "\n",
    "# classificador_gini = tree.DecisionTreeClassifier(criterion='gini', splitter='best')\n",
    "\n",
    "classificador_gini = tree.DecisionTreeClassifier(criterion='gini', splitter='best', max_depth=8, min_samples_split= 25, min_samples_leaf=25)\n",
    "\n",
    "classificador_entropy = tree.DecisionTreeClassifier(criterion='entropy', splitter='best', max_depth=8, min_samples_split= 25, min_samples_leaf=25)\n",
    "\n",
    "classificador_bayes = GaussianNB()\n",
    "\n",
    "classificador_knn = KNeighborsClassifier()"
   ]
  },
  {
   "cell_type": "code",
   "execution_count": 35,
   "metadata": {},
   "outputs": [
    {
     "data": {
      "text/plain": [
       "array([[3.00e+00, 2.00e+00, 4.97e+02, ..., 1.97e+03, 1.00e+00, 1.00e+00],\n",
       "       [1.70e+01, 2.00e+00, 8.67e+02, ..., 1.97e+03, 1.00e+00, 1.00e+00],\n",
       "       [6.00e+00, 2.00e+00, 9.11e+02, ..., 1.97e+03, 1.00e+00, 1.00e+00],\n",
       "       ...,\n",
       "       [3.00e+00, 2.00e+00, 2.23e+02, ..., 1.97e+03, 1.00e+00, 1.00e+00],\n",
       "       [3.00e+00, 2.00e+00, 8.04e+02, ..., 1.97e+03, 1.00e+00, 1.00e+00],\n",
       "       [3.00e+00, 2.00e+00, 3.94e+02, ..., 1.97e+03, 1.00e+00, 1.00e+00]])"
      ]
     },
     "execution_count": 35,
     "metadata": {},
     "output_type": "execute_result"
    }
   ],
   "source": [
    "x_train"
   ]
  },
  {
   "cell_type": "markdown",
   "metadata": {},
   "source": [
    "# Melhores parâmetros"
   ]
  },
  {
   "cell_type": "markdown",
   "metadata": {},
   "source": [
    "# Testando os classificadores"
   ]
  },
  {
   "cell_type": "code",
   "execution_count": 36,
   "metadata": {},
   "outputs": [
    {
     "data": {
      "text/html": [
       "<style>#sk-container-id-2 {color: black;}#sk-container-id-2 pre{padding: 0;}#sk-container-id-2 div.sk-toggleable {background-color: white;}#sk-container-id-2 label.sk-toggleable__label {cursor: pointer;display: block;width: 100%;margin-bottom: 0;padding: 0.3em;box-sizing: border-box;text-align: center;}#sk-container-id-2 label.sk-toggleable__label-arrow:before {content: \"▸\";float: left;margin-right: 0.25em;color: #696969;}#sk-container-id-2 label.sk-toggleable__label-arrow:hover:before {color: black;}#sk-container-id-2 div.sk-estimator:hover label.sk-toggleable__label-arrow:before {color: black;}#sk-container-id-2 div.sk-toggleable__content {max-height: 0;max-width: 0;overflow: hidden;text-align: left;background-color: #f0f8ff;}#sk-container-id-2 div.sk-toggleable__content pre {margin: 0.2em;color: black;border-radius: 0.25em;background-color: #f0f8ff;}#sk-container-id-2 input.sk-toggleable__control:checked~div.sk-toggleable__content {max-height: 200px;max-width: 100%;overflow: auto;}#sk-container-id-2 input.sk-toggleable__control:checked~label.sk-toggleable__label-arrow:before {content: \"▾\";}#sk-container-id-2 div.sk-estimator input.sk-toggleable__control:checked~label.sk-toggleable__label {background-color: #d4ebff;}#sk-container-id-2 div.sk-label input.sk-toggleable__control:checked~label.sk-toggleable__label {background-color: #d4ebff;}#sk-container-id-2 input.sk-hidden--visually {border: 0;clip: rect(1px 1px 1px 1px);clip: rect(1px, 1px, 1px, 1px);height: 1px;margin: -1px;overflow: hidden;padding: 0;position: absolute;width: 1px;}#sk-container-id-2 div.sk-estimator {font-family: monospace;background-color: #f0f8ff;border: 1px dotted black;border-radius: 0.25em;box-sizing: border-box;margin-bottom: 0.5em;}#sk-container-id-2 div.sk-estimator:hover {background-color: #d4ebff;}#sk-container-id-2 div.sk-parallel-item::after {content: \"\";width: 100%;border-bottom: 1px solid gray;flex-grow: 1;}#sk-container-id-2 div.sk-label:hover label.sk-toggleable__label {background-color: #d4ebff;}#sk-container-id-2 div.sk-serial::before {content: \"\";position: absolute;border-left: 1px solid gray;box-sizing: border-box;top: 0;bottom: 0;left: 50%;z-index: 0;}#sk-container-id-2 div.sk-serial {display: flex;flex-direction: column;align-items: center;background-color: white;padding-right: 0.2em;padding-left: 0.2em;position: relative;}#sk-container-id-2 div.sk-item {position: relative;z-index: 1;}#sk-container-id-2 div.sk-parallel {display: flex;align-items: stretch;justify-content: center;background-color: white;position: relative;}#sk-container-id-2 div.sk-item::before, #sk-container-id-2 div.sk-parallel-item::before {content: \"\";position: absolute;border-left: 1px solid gray;box-sizing: border-box;top: 0;bottom: 0;left: 50%;z-index: -1;}#sk-container-id-2 div.sk-parallel-item {display: flex;flex-direction: column;z-index: 1;position: relative;background-color: white;}#sk-container-id-2 div.sk-parallel-item:first-child::after {align-self: flex-end;width: 50%;}#sk-container-id-2 div.sk-parallel-item:last-child::after {align-self: flex-start;width: 50%;}#sk-container-id-2 div.sk-parallel-item:only-child::after {width: 0;}#sk-container-id-2 div.sk-dashed-wrapped {border: 1px dashed gray;margin: 0 0.4em 0.5em 0.4em;box-sizing: border-box;padding-bottom: 0.4em;background-color: white;}#sk-container-id-2 div.sk-label label {font-family: monospace;font-weight: bold;display: inline-block;line-height: 1.2em;}#sk-container-id-2 div.sk-label-container {text-align: center;}#sk-container-id-2 div.sk-container {/* jupyter's `normalize.less` sets `[hidden] { display: none; }` but bootstrap.min.css set `[hidden] { display: none !important; }` so we also need the `!important` here to be able to override the default hidden behavior on the sphinx rendered scikit-learn.org. See: https://github.com/scikit-learn/scikit-learn/issues/21755 */display: inline-block !important;position: relative;}#sk-container-id-2 div.sk-text-repr-fallback {display: none;}</style><div id=\"sk-container-id-2\" class=\"sk-top-container\"><div class=\"sk-text-repr-fallback\"><pre>KNeighborsClassifier()</pre><b>In a Jupyter environment, please rerun this cell to show the HTML representation or trust the notebook. <br />On GitHub, the HTML representation is unable to render, please try loading this page with nbviewer.org.</b></div><div class=\"sk-container\" hidden><div class=\"sk-item\"><div class=\"sk-estimator sk-toggleable\"><input class=\"sk-toggleable__control sk-hidden--visually\" id=\"sk-estimator-id-2\" type=\"checkbox\" checked><label for=\"sk-estimator-id-2\" class=\"sk-toggleable__label sk-toggleable__label-arrow\">KNeighborsClassifier</label><div class=\"sk-toggleable__content\"><pre>KNeighborsClassifier()</pre></div></div></div></div></div>"
      ],
      "text/plain": [
       "KNeighborsClassifier()"
      ]
     },
     "execution_count": 36,
     "metadata": {},
     "output_type": "execute_result"
    }
   ],
   "source": [
    "classificador_gini.fit(x_train, y_train)\n",
    "classificador_entropy.fit(x_train, y_train)\n",
    "classificador_bayes.fit(x_train, y_train)\n",
    "classificador_knn.fit(x_train, y_train)\n",
    "\n",
    "# print(\"Arvore Gini\")\n",
    "# # Mostrando as arvores\n",
    "# plt.figure(figsize=(30,7))\n",
    "# tree.plot_tree(classificador_gini,\n",
    "# feature_names=df_atributos.columns,\n",
    "# class_names=classificador_gini.classes_,\n",
    "# filled=True)\n",
    "\n",
    "# print(\"Arvore Entropia\")\n",
    "# # mostrando as arvores\n",
    "# plt.figure(figsize=(30,7))\n",
    "# tree.plot_tree(classificador_entropy, feature_names=df_atributos.columns,\n",
    "# class_names=classificador_entropy.classes_,\n",
    "# filled=True)"
   ]
  },
  {
   "cell_type": "markdown",
   "metadata": {},
   "source": [
    "# Mostrando a Árvore Feia"
   ]
  },
  {
   "cell_type": "code",
   "execution_count": 37,
   "metadata": {},
   "outputs": [],
   "source": [
    "# print(\"Arvore Gini\")\n",
    "# # Mostrando as arvores\n",
    "# plt.figure(figsize=(30,7))\n",
    "# tree.plot_tree(classificador_gini,\n",
    "# feature_names=df_atributos.columns,\n",
    "# class_names=classificador_gini.classes_,\n",
    "# filled=True)\n",
    "\n",
    "# print(\"Arvore Entropia\")\n",
    "# # mostrando as arvores\n",
    "# plt.figure(figsize=(30,7))\n",
    "# tree.plot_tree(classificador_entropy, feature_names=df_atributos.columns,\n",
    "# class_names=classificador_entropy.classes_,\n",
    "# filled=True)"
   ]
  },
  {
   "cell_type": "markdown",
   "metadata": {},
   "source": [
    "# Mostrando a Árvore que leva a decisão"
   ]
  },
  {
   "cell_type": "code",
   "execution_count": 38,
   "metadata": {},
   "outputs": [],
   "source": [
    "# import graphviz\n",
    "# import os\n",
    "\n",
    "# os.environ[\"PATH\"] += os.pathsep + 'C:\\\\Users\\\\davicavalcante-ieg\\\\Graphviz-11.0.0-win64\\\\bin'\n",
    "\n",
    "# # Criando a Árvore\n",
    "# arvore_gini = tree.export_graphviz(classificador_gini,\n",
    "# feature_names=df_atributos.columns,\n",
    "# class_names=classificador_gini.classes_,\n",
    "# filled=True)\n",
    "\n",
    "\n",
    "# graph = graphviz.Source(arvore_gini, format=\"png\")\n",
    "# display(graph)\n",
    "\n",
    "# arvore_entropia = tree.export_graphviz(classificador_entropy,\n",
    "# feature_names=df_atributos.columns,\n",
    "# class_names=classificador_gini.classes_,\n",
    "# filled=True)\n",
    "\n",
    "# graph2 = graphviz.Source(arvore_entropia, format=\"png\")\n",
    "# display(graph2)\n",
    "\n",
    "# # ele sempre faz binario, a classe pessoas foi transformada em 0, 1 e 2,"
   ]
  },
  {
   "cell_type": "markdown",
   "metadata": {},
   "source": [
    "# Testando"
   ]
  },
  {
   "cell_type": "code",
   "execution_count": 39,
   "metadata": {},
   "outputs": [],
   "source": [
    "classificacao_gini_test = classificador_gini.predict(x_test)\n",
    "classificacao_entropy_test = classificador_entropy.predict(x_test)\n",
    "classificacao_bayes_test = classificador_bayes.predict(x_test)\n",
    "classificacao_knn_test = classificador_knn.predict(x_test)\n",
    "\n",
    "\n",
    "classificacao_gini_train = classificador_gini.predict(x_train)\n",
    "classificacao_entropy_train = classificador_entropy.predict(x_train)\n",
    "classificacao_bayes_train = classificador_bayes.predict(x_train)\n",
    "classificacao_knn_train = classificador_knn.predict(x_train)"
   ]
  },
  {
   "cell_type": "markdown",
   "metadata": {},
   "source": [
    "# Classificação"
   ]
  },
  {
   "cell_type": "code",
   "execution_count": 40,
   "metadata": {},
   "outputs": [
    {
     "name": "stdout",
     "output_type": "stream",
     "text": [
      "Gini\n",
      "              precision    recall  f1-score   support\n",
      "\n",
      "        NULA       0.87      0.89      0.88      2502\n",
      "       ATIVA       0.00      0.00      0.00        28\n",
      "      INAPTA       0.47      0.46      0.47       434\n",
      "     BAIXADA       0.58      0.54      0.56       394\n",
      "    SUSPENSA       0.00      0.00      0.00         1\n",
      "\n",
      "    accuracy                           0.79      3359\n",
      "   macro avg       0.38      0.38      0.38      3359\n",
      "weighted avg       0.78      0.79      0.78      3359\n",
      " \n",
      "\n"
     ]
    },
    {
     "name": "stderr",
     "output_type": "stream",
     "text": [
      "c:\\Users\\davicavalcante-ieg\\AppData\\Local\\Programs\\Python\\Python312\\Lib\\site-packages\\sklearn\\metrics\\_classification.py:1471: UndefinedMetricWarning: Precision and F-score are ill-defined and being set to 0.0 in labels with no predicted samples. Use `zero_division` parameter to control this behavior.\n",
      "  _warn_prf(average, modifier, msg_start, len(result))\n",
      "c:\\Users\\davicavalcante-ieg\\AppData\\Local\\Programs\\Python\\Python312\\Lib\\site-packages\\sklearn\\metrics\\_classification.py:1471: UndefinedMetricWarning: Precision and F-score are ill-defined and being set to 0.0 in labels with no predicted samples. Use `zero_division` parameter to control this behavior.\n",
      "  _warn_prf(average, modifier, msg_start, len(result))\n",
      "c:\\Users\\davicavalcante-ieg\\AppData\\Local\\Programs\\Python\\Python312\\Lib\\site-packages\\sklearn\\metrics\\_classification.py:1471: UndefinedMetricWarning: Precision and F-score are ill-defined and being set to 0.0 in labels with no predicted samples. Use `zero_division` parameter to control this behavior.\n",
      "  _warn_prf(average, modifier, msg_start, len(result))\n"
     ]
    }
   ],
   "source": [
    "# Gini\n",
    "print(\"Gini\")\n",
    "relatorio = classification_report(y_test, classificacao_gini_test, target_names=df_meis['Situação Cadastral'].unique())\n",
    "print(relatorio, '\\n')"
   ]
  },
  {
   "cell_type": "code",
   "execution_count": 41,
   "metadata": {},
   "outputs": [
    {
     "name": "stdout",
     "output_type": "stream",
     "text": [
      "Entropia\n"
     ]
    },
    {
     "name": "stderr",
     "output_type": "stream",
     "text": [
      "c:\\Users\\davicavalcante-ieg\\AppData\\Local\\Programs\\Python\\Python312\\Lib\\site-packages\\sklearn\\metrics\\_classification.py:1471: UndefinedMetricWarning: Precision and F-score are ill-defined and being set to 0.0 in labels with no predicted samples. Use `zero_division` parameter to control this behavior.\n",
      "  _warn_prf(average, modifier, msg_start, len(result))\n"
     ]
    },
    {
     "name": "stdout",
     "output_type": "stream",
     "text": [
      "              precision    recall  f1-score   support\n",
      "\n",
      "        NULA       0.85      0.91      0.88      2502\n",
      "       ATIVA       0.00      0.00      0.00        28\n",
      "      INAPTA       0.49      0.36      0.41       434\n",
      "     BAIXADA       0.57      0.53      0.55       394\n",
      "    SUSPENSA       0.00      0.00      0.00         1\n",
      "\n",
      "    accuracy                           0.79      3359\n",
      "   macro avg       0.38      0.36      0.37      3359\n",
      "weighted avg       0.77      0.79      0.77      3359\n",
      " \n",
      "\n"
     ]
    },
    {
     "name": "stderr",
     "output_type": "stream",
     "text": [
      "c:\\Users\\davicavalcante-ieg\\AppData\\Local\\Programs\\Python\\Python312\\Lib\\site-packages\\sklearn\\metrics\\_classification.py:1471: UndefinedMetricWarning: Precision and F-score are ill-defined and being set to 0.0 in labels with no predicted samples. Use `zero_division` parameter to control this behavior.\n",
      "  _warn_prf(average, modifier, msg_start, len(result))\n",
      "c:\\Users\\davicavalcante-ieg\\AppData\\Local\\Programs\\Python\\Python312\\Lib\\site-packages\\sklearn\\metrics\\_classification.py:1471: UndefinedMetricWarning: Precision and F-score are ill-defined and being set to 0.0 in labels with no predicted samples. Use `zero_division` parameter to control this behavior.\n",
      "  _warn_prf(average, modifier, msg_start, len(result))\n"
     ]
    }
   ],
   "source": [
    "# Entropia\n",
    "print(\"Entropia\")\n",
    "relatorio = classification_report(y_test, classificacao_entropy_test, target_names=df_meis['Situação Cadastral'].unique())\n",
    "print(relatorio, '\\n')"
   ]
  },
  {
   "cell_type": "code",
   "execution_count": 42,
   "metadata": {},
   "outputs": [
    {
     "name": "stderr",
     "output_type": "stream",
     "text": [
      "c:\\Users\\davicavalcante-ieg\\AppData\\Local\\Programs\\Python\\Python312\\Lib\\site-packages\\sklearn\\metrics\\_classification.py:1471: UndefinedMetricWarning: Precision and F-score are ill-defined and being set to 0.0 in labels with no predicted samples. Use `zero_division` parameter to control this behavior.\n",
      "  _warn_prf(average, modifier, msg_start, len(result))\n"
     ]
    },
    {
     "name": "stdout",
     "output_type": "stream",
     "text": [
      "Bayes\n",
      "              precision    recall  f1-score   support\n",
      "\n",
      "        NULA       1.00      0.00      0.00      2502\n",
      "       ATIVA       0.00      0.00      0.00        28\n",
      "      INAPTA       0.13      0.99      0.23       434\n",
      "     BAIXADA       0.66      0.05      0.09       394\n",
      "    SUSPENSA       0.00      0.00      0.00         1\n",
      "\n",
      "    accuracy                           0.13      3359\n",
      "   macro avg       0.36      0.21      0.06      3359\n",
      "weighted avg       0.84      0.13      0.04      3359\n",
      "\n"
     ]
    },
    {
     "name": "stderr",
     "output_type": "stream",
     "text": [
      "c:\\Users\\davicavalcante-ieg\\AppData\\Local\\Programs\\Python\\Python312\\Lib\\site-packages\\sklearn\\metrics\\_classification.py:1471: UndefinedMetricWarning: Precision and F-score are ill-defined and being set to 0.0 in labels with no predicted samples. Use `zero_division` parameter to control this behavior.\n",
      "  _warn_prf(average, modifier, msg_start, len(result))\n",
      "c:\\Users\\davicavalcante-ieg\\AppData\\Local\\Programs\\Python\\Python312\\Lib\\site-packages\\sklearn\\metrics\\_classification.py:1471: UndefinedMetricWarning: Precision and F-score are ill-defined and being set to 0.0 in labels with no predicted samples. Use `zero_division` parameter to control this behavior.\n",
      "  _warn_prf(average, modifier, msg_start, len(result))\n"
     ]
    }
   ],
   "source": [
    "# Bayes\n",
    "print(\"Bayes\")\n",
    "relatorio = classification_report(y_test, classificacao_bayes_test, target_names=df_meis['Situação Cadastral'].unique())\n",
    "print(relatorio)"
   ]
  },
  {
   "cell_type": "code",
   "execution_count": 43,
   "metadata": {},
   "outputs": [
    {
     "name": "stdout",
     "output_type": "stream",
     "text": [
      "KNN\n"
     ]
    },
    {
     "name": "stderr",
     "output_type": "stream",
     "text": [
      "c:\\Users\\davicavalcante-ieg\\AppData\\Local\\Programs\\Python\\Python312\\Lib\\site-packages\\sklearn\\metrics\\_classification.py:1471: UndefinedMetricWarning: Precision and F-score are ill-defined and being set to 0.0 in labels with no predicted samples. Use `zero_division` parameter to control this behavior.\n",
      "  _warn_prf(average, modifier, msg_start, len(result))\n",
      "c:\\Users\\davicavalcante-ieg\\AppData\\Local\\Programs\\Python\\Python312\\Lib\\site-packages\\sklearn\\metrics\\_classification.py:1471: UndefinedMetricWarning: Precision and F-score are ill-defined and being set to 0.0 in labels with no predicted samples. Use `zero_division` parameter to control this behavior.\n",
      "  _warn_prf(average, modifier, msg_start, len(result))\n"
     ]
    },
    {
     "name": "stdout",
     "output_type": "stream",
     "text": [
      "              precision    recall  f1-score   support\n",
      "\n",
      "        NULA       0.78      0.93      0.85      2502\n",
      "       ATIVA       0.00      0.00      0.00        28\n",
      "      INAPTA       0.27      0.11      0.16       434\n",
      "     BAIXADA       0.48      0.22      0.30       394\n",
      "    SUSPENSA       0.00      0.00      0.00         1\n",
      "\n",
      "    accuracy                           0.73      3359\n",
      "   macro avg       0.31      0.25      0.26      3359\n",
      "weighted avg       0.67      0.73      0.69      3359\n",
      " \n",
      "\n"
     ]
    },
    {
     "name": "stderr",
     "output_type": "stream",
     "text": [
      "c:\\Users\\davicavalcante-ieg\\AppData\\Local\\Programs\\Python\\Python312\\Lib\\site-packages\\sklearn\\metrics\\_classification.py:1471: UndefinedMetricWarning: Precision and F-score are ill-defined and being set to 0.0 in labels with no predicted samples. Use `zero_division` parameter to control this behavior.\n",
      "  _warn_prf(average, modifier, msg_start, len(result))\n"
     ]
    }
   ],
   "source": [
    "# Gini\n",
    "print(\"KNN\")\n",
    "relatorio = classification_report(y_test, classificacao_knn_test, target_names=df_meis['Situação Cadastral'].unique())\n",
    "print(relatorio, '\\n')"
   ]
  },
  {
   "cell_type": "markdown",
   "metadata": {},
   "source": [
    "# Métricas com o uso do Report (Entropia, Gini e Bayes) treino"
   ]
  },
  {
   "cell_type": "code",
   "execution_count": 44,
   "metadata": {},
   "outputs": [
    {
     "name": "stdout",
     "output_type": "stream",
     "text": [
      "Gini\n"
     ]
    },
    {
     "name": "stderr",
     "output_type": "stream",
     "text": [
      "c:\\Users\\davicavalcante-ieg\\AppData\\Local\\Programs\\Python\\Python312\\Lib\\site-packages\\sklearn\\metrics\\_classification.py:1471: UndefinedMetricWarning: Precision and F-score are ill-defined and being set to 0.0 in labels with no predicted samples. Use `zero_division` parameter to control this behavior.\n",
      "  _warn_prf(average, modifier, msg_start, len(result))\n",
      "c:\\Users\\davicavalcante-ieg\\AppData\\Local\\Programs\\Python\\Python312\\Lib\\site-packages\\sklearn\\metrics\\_classification.py:1471: UndefinedMetricWarning: Precision and F-score are ill-defined and being set to 0.0 in labels with no predicted samples. Use `zero_division` parameter to control this behavior.\n",
      "  _warn_prf(average, modifier, msg_start, len(result))\n"
     ]
    },
    {
     "name": "stdout",
     "output_type": "stream",
     "text": [
      "              precision    recall  f1-score   support\n",
      "\n",
      "        NULA       0.86      0.90      0.88      7284\n",
      "       ATIVA       0.00      0.00      0.00        70\n",
      "      INAPTA       0.50      0.48      0.49      1428\n",
      "     BAIXADA       0.65      0.56      0.60      1288\n",
      "    SUSPENSA       0.00      0.00      0.00         6\n",
      "\n",
      "    accuracy                           0.79     10076\n",
      "   macro avg       0.40      0.39      0.39     10076\n",
      "weighted avg       0.78      0.79      0.78     10076\n",
      " \n",
      "\n"
     ]
    },
    {
     "name": "stderr",
     "output_type": "stream",
     "text": [
      "c:\\Users\\davicavalcante-ieg\\AppData\\Local\\Programs\\Python\\Python312\\Lib\\site-packages\\sklearn\\metrics\\_classification.py:1471: UndefinedMetricWarning: Precision and F-score are ill-defined and being set to 0.0 in labels with no predicted samples. Use `zero_division` parameter to control this behavior.\n",
      "  _warn_prf(average, modifier, msg_start, len(result))\n"
     ]
    }
   ],
   "source": [
    "# Gini\n",
    "print(\"Gini\")\n",
    "relatorio = classification_report(y_train, classificacao_gini_train, target_names=df_meis['Situação Cadastral'].unique())\n",
    "print(relatorio, '\\n')"
   ]
  },
  {
   "cell_type": "code",
   "execution_count": 45,
   "metadata": {},
   "outputs": [
    {
     "name": "stdout",
     "output_type": "stream",
     "text": [
      "Entropia\n"
     ]
    },
    {
     "name": "stderr",
     "output_type": "stream",
     "text": [
      "c:\\Users\\davicavalcante-ieg\\AppData\\Local\\Programs\\Python\\Python312\\Lib\\site-packages\\sklearn\\metrics\\_classification.py:1471: UndefinedMetricWarning: Precision and F-score are ill-defined and being set to 0.0 in labels with no predicted samples. Use `zero_division` parameter to control this behavior.\n",
      "  _warn_prf(average, modifier, msg_start, len(result))\n",
      "c:\\Users\\davicavalcante-ieg\\AppData\\Local\\Programs\\Python\\Python312\\Lib\\site-packages\\sklearn\\metrics\\_classification.py:1471: UndefinedMetricWarning: Precision and F-score are ill-defined and being set to 0.0 in labels with no predicted samples. Use `zero_division` parameter to control this behavior.\n",
      "  _warn_prf(average, modifier, msg_start, len(result))\n",
      "c:\\Users\\davicavalcante-ieg\\AppData\\Local\\Programs\\Python\\Python312\\Lib\\site-packages\\sklearn\\metrics\\_classification.py:1471: UndefinedMetricWarning: Precision and F-score are ill-defined and being set to 0.0 in labels with no predicted samples. Use `zero_division` parameter to control this behavior.\n",
      "  _warn_prf(average, modifier, msg_start, len(result))\n"
     ]
    },
    {
     "name": "stdout",
     "output_type": "stream",
     "text": [
      "              precision    recall  f1-score   support\n",
      "\n",
      "        NULA       0.85      0.91      0.88      7284\n",
      "       ATIVA       0.00      0.00      0.00        70\n",
      "      INAPTA       0.51      0.38      0.44      1428\n",
      "     BAIXADA       0.66      0.57      0.61      1288\n",
      "    SUSPENSA       0.00      0.00      0.00         6\n",
      "\n",
      "    accuracy                           0.79     10076\n",
      "   macro avg       0.40      0.37      0.39     10076\n",
      "weighted avg       0.77      0.79      0.77     10076\n",
      " \n",
      "\n"
     ]
    }
   ],
   "source": [
    "# Entropia\n",
    "print(\"Entropia\")\n",
    "relatorio = classification_report(y_train, classificacao_entropy_train, target_names=df_meis['Situação Cadastral'].unique())\n",
    "print(relatorio, '\\n')"
   ]
  },
  {
   "cell_type": "code",
   "execution_count": 46,
   "metadata": {},
   "outputs": [
    {
     "name": "stdout",
     "output_type": "stream",
     "text": [
      "Bayes\n"
     ]
    },
    {
     "name": "stderr",
     "output_type": "stream",
     "text": [
      "c:\\Users\\davicavalcante-ieg\\AppData\\Local\\Programs\\Python\\Python312\\Lib\\site-packages\\sklearn\\metrics\\_classification.py:1471: UndefinedMetricWarning: Precision and F-score are ill-defined and being set to 0.0 in labels with no predicted samples. Use `zero_division` parameter to control this behavior.\n",
      "  _warn_prf(average, modifier, msg_start, len(result))\n"
     ]
    },
    {
     "name": "stdout",
     "output_type": "stream",
     "text": [
      "              precision    recall  f1-score   support\n",
      "\n",
      "        NULA       0.45      0.00      0.00      7284\n",
      "       ATIVA       0.00      0.00      0.00        70\n",
      "      INAPTA       0.14      1.00      0.25      1428\n",
      "     BAIXADA       0.55      0.04      0.08      1288\n",
      "    SUSPENSA       0.00      0.00      0.00         6\n",
      "\n",
      "    accuracy                           0.15     10076\n",
      "   macro avg       0.23      0.21      0.07     10076\n",
      "weighted avg       0.42      0.15      0.05     10076\n",
      "\n"
     ]
    },
    {
     "name": "stderr",
     "output_type": "stream",
     "text": [
      "c:\\Users\\davicavalcante-ieg\\AppData\\Local\\Programs\\Python\\Python312\\Lib\\site-packages\\sklearn\\metrics\\_classification.py:1471: UndefinedMetricWarning: Precision and F-score are ill-defined and being set to 0.0 in labels with no predicted samples. Use `zero_division` parameter to control this behavior.\n",
      "  _warn_prf(average, modifier, msg_start, len(result))\n",
      "c:\\Users\\davicavalcante-ieg\\AppData\\Local\\Programs\\Python\\Python312\\Lib\\site-packages\\sklearn\\metrics\\_classification.py:1471: UndefinedMetricWarning: Precision and F-score are ill-defined and being set to 0.0 in labels with no predicted samples. Use `zero_division` parameter to control this behavior.\n",
      "  _warn_prf(average, modifier, msg_start, len(result))\n"
     ]
    }
   ],
   "source": [
    "# Bayes\n",
    "print(\"Bayes\")\n",
    "relatorio = classification_report(y_train, classificacao_bayes_train, target_names=df_meis['Situação Cadastral'].unique())\n",
    "print(relatorio)"
   ]
  },
  {
   "cell_type": "code",
   "execution_count": 47,
   "metadata": {},
   "outputs": [
    {
     "name": "stdout",
     "output_type": "stream",
     "text": [
      "KNN\n"
     ]
    },
    {
     "name": "stderr",
     "output_type": "stream",
     "text": [
      "c:\\Users\\davicavalcante-ieg\\AppData\\Local\\Programs\\Python\\Python312\\Lib\\site-packages\\sklearn\\metrics\\_classification.py:1471: UndefinedMetricWarning: Precision and F-score are ill-defined and being set to 0.0 in labels with no predicted samples. Use `zero_division` parameter to control this behavior.\n",
      "  _warn_prf(average, modifier, msg_start, len(result))\n"
     ]
    },
    {
     "name": "stdout",
     "output_type": "stream",
     "text": [
      "              precision    recall  f1-score   support\n",
      "\n",
      "        NULA       0.79      0.97      0.87      7284\n",
      "       ATIVA       0.50      0.01      0.03        70\n",
      "      INAPTA       0.60      0.26      0.36      1428\n",
      "     BAIXADA       0.74      0.34      0.47      1288\n",
      "    SUSPENSA       0.00      0.00      0.00         6\n",
      "\n",
      "    accuracy                           0.78     10076\n",
      "   macro avg       0.53      0.32      0.35     10076\n",
      "weighted avg       0.76      0.78      0.74     10076\n",
      "\n"
     ]
    },
    {
     "name": "stderr",
     "output_type": "stream",
     "text": [
      "c:\\Users\\davicavalcante-ieg\\AppData\\Local\\Programs\\Python\\Python312\\Lib\\site-packages\\sklearn\\metrics\\_classification.py:1471: UndefinedMetricWarning: Precision and F-score are ill-defined and being set to 0.0 in labels with no predicted samples. Use `zero_division` parameter to control this behavior.\n",
      "  _warn_prf(average, modifier, msg_start, len(result))\n",
      "c:\\Users\\davicavalcante-ieg\\AppData\\Local\\Programs\\Python\\Python312\\Lib\\site-packages\\sklearn\\metrics\\_classification.py:1471: UndefinedMetricWarning: Precision and F-score are ill-defined and being set to 0.0 in labels with no predicted samples. Use `zero_division` parameter to control this behavior.\n",
      "  _warn_prf(average, modifier, msg_start, len(result))\n"
     ]
    }
   ],
   "source": [
    "# Bayes\n",
    "print(\"KNN\")\n",
    "relatorio = classification_report(y_train, classificacao_knn_train, target_names=df_meis['Situação Cadastral'].unique())\n",
    "print(relatorio)"
   ]
  },
  {
   "cell_type": "markdown",
   "metadata": {},
   "source": [
    "## Plot matriz de confusão"
   ]
  },
  {
   "cell_type": "code",
   "execution_count": 48,
   "metadata": {},
   "outputs": [
    {
     "name": "stdout",
     "output_type": "stream",
     "text": [
      "[[ 208  152   34    0    0]\n",
      " [  99 2282  121    0    0]\n",
      " [  51  227  156    0    0]\n",
      " [   4   16    8    0    0]\n",
      " [   0    1    0    0    0]]\n"
     ]
    },
    {
     "data": {
      "image/png": "[encoded data removed]",
      "text/plain": [
       "<Figure size 640x480 with 2 Axes>"
      ]
     },
     "metadata": {},
     "output_type": "display_data"
    }
   ],
   "source": [
    "# Calcula a matriz de confusão\n",
    "matriz_de_confusao = confusion_matrix(y_test, classificacao_entropy_test, labels=['NULA', 'ATIVA', 'INAPTA', 'BAIXADA', 'SUSPENSA'])\n",
    "print(matriz_de_confusao)\n",
    "\n",
    "# Visualiza a matriz de confusão\n",
    "sns.heatmap(matriz_de_confusao, square=True, annot=True, fmt='d', cbar=True, \n",
    "            yticklabels=['NULA', 'ATIVA', 'INAPTA', 'BAIXADA', 'SUSPENSA'], \n",
    "            xticklabels=['NULA', 'ATIVA', 'INAPTA', 'BAIXADA', 'SUSPENSA'])\n",
    "plt.title('Matriz de Confusão')\n",
    "plt.xlabel('Previsto')\n",
    "plt.ylabel('Verdadeiro')\n",
    "plt.tight_layout()\n",
    "plt.show()"
   ]
  },
  {
   "cell_type": "markdown",
   "metadata": {},
   "source": [
    "# Cross validation"
   ]
  },
  {
   "cell_type": "markdown",
   "metadata": {},
   "source": [
    "## Validação sem normalização"
   ]
  },
  {
   "cell_type": "code",
   "execution_count": 49,
   "metadata": {},
   "outputs": [
    {
     "name": "stdout",
     "output_type": "stream",
     "text": [
      "Validação cruzada sem normalização:\n",
      "Scores: [0.13486157 0.14766299 0.14944924 0.14264443]\n",
      "Média: 0.14365455823393936\n"
     ]
    }
   ],
   "source": [
    "# Validar sem normalização\n",
    "print(\"Validação cruzada sem normalização:\")\n",
    "scores = cross_val_score(classificador_bayes, X_pre, df_resposta, cv=kfold)\n",
    "print(\"Scores:\", scores)\n",
    "print(\"Média:\", scores.mean())"
   ]
  },
  {
   "cell_type": "markdown",
   "metadata": {},
   "source": [
    "# Validação com normalização"
   ]
  },
  {
   "cell_type": "code",
   "execution_count": 50,
   "metadata": {},
   "outputs": [],
   "source": [
    "# atributos_norm = df_atributos.values\n",
    "# for indice_treino, indice_teste  in kfold.split(atributos_norm) :\n",
    "#     classificador_bayes.fit(atributos_norm[indice_treino], df_resposta[indice_treino])\n",
    "#     classificacao_cross = classificador_bayes.predict(atributos_norm[indice_teste])\n",
    "#     matriz_confusao_cross = confusion_matrix(df_resposta[indice_teste], classificacao_cross)\n",
    "#     print(\"\\nClassificação: \", classificacao_cross)\n",
    "#     print(matriz_confusao_cross)"
   ]
  },
  {
   "cell_type": "markdown",
   "metadata": {},
   "source": [
    "## Metricas Cross Validation"
   ]
  },
  {
   "cell_type": "code",
   "execution_count": 51,
   "metadata": {},
   "outputs": [],
   "source": [
    "# print(\"Bayes\")\n",
    "# relatorio = classification_report(y_test, classificacao_cross, target_names=df_carro[\"avaliacao\"].unique())\n",
    "# print(relatorio)"
   ]
  },
  {
   "cell_type": "markdown",
   "metadata": {},
   "source": [
    "## Balanceamento de Classes com Smote"
   ]
  },
  {
   "cell_type": "code",
   "execution_count": 52,
   "metadata": {},
   "outputs": [],
   "source": [
    "# smote = SMOTE(random_state=0)\n",
    "# x_train_res, y_train_res = smote.fit_resample(x_train, y_train)"
   ]
  },
  {
   "cell_type": "code",
   "execution_count": 53,
   "metadata": {},
   "outputs": [],
   "source": [
    "# classificador_bayes_smote = GaussianNB()\n",
    "# classificador_bayes_smote.fit(x_train_res, y_train_res)"
   ]
  },
  {
   "cell_type": "code",
   "execution_count": 54,
   "metadata": {},
   "outputs": [],
   "source": [
    "# classificacao_bayes_smote = classificador_bayes.predict(x_test)"
   ]
  }
 ],
 "metadata": {
  "kernelspec": {
   "display_name": "Python 3",
   "language": "python",
   "name": "python3"
  },
  "language_info": {
   "codemirror_mode": {
    "name": "ipython",
    "version": 3
   },
   "file_extension": ".py",
   "mimetype": "text/x-python",
   "name": "python",
   "nbconvert_exporter": "python",
   "pygments_lexer": "ipython3",
   "version": "3.12.1"
  }
 },
 "nbformat": 4,
 "nbformat_minor": 2
}
